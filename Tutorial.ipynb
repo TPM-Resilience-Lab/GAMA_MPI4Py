{
 "cells": [
  {
   "cell_type": "code",
   "execution_count": 14,
   "metadata": {},
   "outputs": [],
   "source": [
    "import pandas as pd\n",
    "import os \n",
    "import numpy as np\n",
    "import matplotlib.pyplot as plt"
   ]
  },
  {
   "cell_type": "markdown",
   "metadata": {},
   "source": [
    "## Requirements\n",
    "The scripts have been tested on Debian-based Linux installations\n",
    "Note: The script makes use of the GAMA Headless interface (more information here). In order to make use of this interface, Java Runtime version 8(!!) is required. \n",
    "\n",
    "Furthermore, the following dependencies will be installed by importing the attached environment (see: gamampi4py.yml)\n",
    "* pandas\n",
    "* numpy \n",
    "* mpi4py \n",
    "* pyarrow\n",
    "* tempfile; by default installed in an Anconda environment\n",
    "* matplotlib; for plotting the results\n",
    "\n",
    "## Introduction\n",
    "\n",
    "The tutorial on how to use the scripts consists out of five parts: \n",
    "1. Setting upt the model specifics\n",
    "2. Setting up the experiment one wants to run\n",
    "3. Setting up the outputs one wants to analyse\n",
    "4. Running the model \n",
    "5. Reading the produced results\n",
    "\n",
    "Note that the output of the first three steps are exported as a .csv file for standalone fetching by the scripts in MPI.py"
   ]
  },
  {
   "cell_type": "code",
   "execution_count": 2,
   "metadata": {},
   "outputs": [],
   "source": [
    "# model-specifics\n",
    "model_specifics_dict = {}\n",
    "\n",
    "model_specifics_dict[\"model_location_string\"] = [\"/home/daan/Documents/GitHub/GAMA_MPI4Py/predatorPrey/predatorPrey.gaml\"]# the location of the GAMA model\n",
    "model_specifics_dict[\"GAMA_location_string\"] = [\"/home/daan/GAMA\"] # the location of GAMA main folder\n",
    "model_specifics_dict[\"experiment_name\"] = [\"prey_predatorExp\"] # experiment name as defined in the .gaml file\n",
    "model_specifics_dict[\"stopping_condition\"] = [\"cycle=1000\"] # stopping condition (> or < do not work)\n",
    "\n",
    "# Export as .csv\n",
    "pd.DataFrame(model_specifics_dict).to_csv(\"model_specifics.csv\")"
   ]
  },
  {
   "cell_type": "markdown",
   "metadata": {},
   "source": [
    "## Construct experiment list\n",
    "1. Permutation policy parametres\n",
    "2. Permutation scenario parametres\n",
    "3. Join both permutations\n",
    "4. Export to .csv files with: \n",
    "    * name \"input_parametres.csv\"\n",
    "    * parametre names as column names \n",
    "    "
   ]
  },
  {
   "cell_type": "code",
   "execution_count": 4,
   "metadata": {},
   "outputs": [],
   "source": [
    "variables_dict = {}\n",
    "variables_dict[\"nb_predators_init\"] = [0,20,50,70]\n",
    "variables_dict[\"nb_preys_init\"] = [0,100,300,500,700]\n",
    "    \n",
    "# permutate the policy options\n",
    "res = [[i, j]  for i in variables_dict[\"nb_predators_init\"]\n",
    "                         for j in variables_dict[\"nb_preys_init\"]]\n",
    "\n",
    "# number of replications NOTE: model should not have a fixed seed when using this\n",
    "nb_replications = 2\n",
    "parameter_values = list()\n",
    "for i in range(nb_replications):\n",
    "    for j in res:\n",
    "        parameter_values.append(j)\n",
    "\n",
    "parameter_names = list()\n",
    "for i in variables_dict:\n",
    "    parameter_names.append(i)\n",
    "\n",
    "pd.DataFrame(parameter_values,columns=parameter_names).to_csv(\"input_parameters.csv\")"
   ]
  },
  {
   "cell_type": "markdown",
   "metadata": {},
   "source": [
    "## Construct output list\n",
    "1. Specify the outputs as monitors in the GAMA model\n",
    "2. Specify the same outputs in one array\n",
    "3. Export as csv file \"output_names.csv\"\n",
    "\n",
    "Note that the framerate is fixed on 1 (meaning one recorded value per tick)"
   ]
  },
  {
   "cell_type": "code",
   "execution_count": 5,
   "metadata": {},
   "outputs": [],
   "source": [
    "output_names = list()\n",
    "# List the names of the desired output\n",
    "output_names.append(\"Number of preys\")\n",
    "output_names.append(\"Number of predators\")\n",
    "\n",
    "pd.DataFrame(output_names).to_csv(\"output_names.csv\")"
   ]
  },
  {
   "cell_type": "markdown",
   "metadata": {},
   "source": [
    "## Run GAMA model in parallel using MPI  \n",
    "1. mpiexec as MPI caller\n",
    "2. -np m with m as number of threads (the total number of runs should be a multiple of m)\n",
    "3. python specifying the python communicator\n",
    "4. filename.py the independently runnable python script\n",
    "5. os.system as bash communicator \n",
    "\n",
    "Note: the MPI interfaces makes use of a separate kernel. Therefore the script should be called from a separate terminal. "
   ]
  },
  {
   "cell_type": "code",
   "execution_count": 6,
   "metadata": {},
   "outputs": [
    {
     "data": {
      "text/plain": [
       "256"
      ]
     },
     "execution_count": 6,
     "metadata": {},
     "output_type": "execute_result"
    }
   ],
   "source": [
    "os.system(\"mpiexec -np 2 python MPI.py\")"
   ]
  },
  {
   "cell_type": "markdown",
   "metadata": {},
   "source": [
    "## Import results from Feather file\n",
    "1. Exported to binary Feather in subdir \"results\"\n",
    "2. Feather file named after experiment_name"
   ]
  },
  {
   "cell_type": "code",
   "execution_count": 8,
   "metadata": {},
   "outputs": [],
   "source": [
    "results = pd.read_feather(\"./results/%s\"%model_specifics_dict[\"experiment_name\"][0])\n",
    "input_vars = pd.read_csv(\"input_parameters.csv\")"
   ]
  },
  {
   "cell_type": "code",
   "execution_count": 13,
   "metadata": {},
   "outputs": [
    {
     "data": {
      "image/png": "[encoded data removed]",
      "text/plain": [
       "<Figure size 432x288 with 1 Axes>"
      ]
     },
     "metadata": {
      "needs_background": "light"
     },
     "output_type": "display_data"
    }
   ],
   "source": [
    "import matplotlib.pyplot as plt\n",
    "x = np.linspace(0,999,1000)\n",
    "for i in input_vars.index:\n",
    "    for j in range(nb_replications):\n",
    "        plt.plot(x,results.o1[results.o0==i],alpha=0.75)#.iloc[j*1000:(j+1)*1000])\n",
    "plt.title(\"The number of preys over time\");"
   ]
  },
  {
   "cell_type": "code",
   "execution_count": null,
   "metadata": {},
   "outputs": [],
   "source": [
    "# To do's: \n",
    "\n",
    "# * Benchmarking\n",
    "# * Make it work with undetermined processor/replication numbers\n"
   ]
  }
 ],
 "metadata": {
  "kernelspec": {
   "display_name": "Python 3",
   "language": "python",
   "name": "python3"
  },
  "language_info": {
   "codemirror_mode": {
    "name": "ipython",
    "version": 3
   },
   "file_extension": ".py",
   "mimetype": "text/x-python",
   "name": "python",
   "nbconvert_exporter": "python",
   "pygments_lexer": "ipython3",
   "version": "3.9.5"
  }
 },
 "nbformat": 4,
 "nbformat_minor": 4
}
